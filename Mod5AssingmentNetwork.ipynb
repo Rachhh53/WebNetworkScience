{
  "nbformat": 4,
  "nbformat_minor": 0,
  "metadata": {
    "colab": {
      "provenance": [],
      "collapsed_sections": [],
      "authorship_tag": "ABX9TyOEWFU+6iUmsLheDy3GufG9",
      "include_colab_link": true
    },
    "kernelspec": {
      "name": "python3",
      "display_name": "Python 3"
    },
    "language_info": {
      "name": "python"
    }
  },
  "cells": [
    {
      "cell_type": "markdown",
      "metadata": {
        "id": "view-in-github",
        "colab_type": "text"
      },
      "source": [
        "<a href=\"https://colab.research.google.com/github/Rachhh53/WebNetworkScience/blob/main/Mod5AssingmentNetwork.ipynb\" target=\"_parent\"><img src=\"https://colab.research.google.com/assets/colab-badge.svg\" alt=\"Open In Colab\"/></a>"
      ]
    },
    {
      "cell_type": "markdown",
      "source": [
        "https://subscription.packtpub.com/book/big-data-and-business-intelligence/9781785280429/5/ch05lvl1sec39/graph-algorithms"
      ],
      "metadata": {
        "id": "NP7aovk1aRK5"
      }
    },
    {
      "cell_type": "code",
      "source": [
        "import networkx as nx\n",
        "import matplotlib.pyplot as plt"
      ],
      "metadata": {
        "id": "Tn0v6kA7Vg-o"
      },
      "execution_count": null,
      "outputs": []
    },
    {
      "cell_type": "markdown",
      "source": [
        "#  Krackhardt Kite graph"
      ],
      "metadata": {
        "id": "61Ka08BzWO5r"
      }
    },
    {
      "cell_type": "code",
      "execution_count": null,
      "metadata": {
        "colab": {
          "base_uri": "https://localhost:8080/",
          "height": 248
        },
        "id": "QLnv1UYHVcMU",
        "outputId": "a736357b-8d7b-4132-9e13-0f0ea64ae623"
      },
      "outputs": [
        {
          "output_type": "display_data",
          "data": {
            "text/plain": [
              "<Figure size 432x288 with 1 Axes>"
            ],
            "image/png": "[encoded data removed]"
          },
          "metadata": {}
        }
      ],
      "source": [
        "G = nx.krackhardt_kite_graph()\n",
        "nx.draw_networkx(G)\n",
        "plt.show()"
      ]
    },
    {
      "cell_type": "markdown",
      "source": [
        "# Connectivity between nodes 2 and 7"
      ],
      "metadata": {
        "id": "fFy9VYjOWQlz"
      }
    },
    {
      "cell_type": "code",
      "source": [
        "print(\"Is there a path?\", nx.has_path(G, source=2, target=7))\n",
        "print(\"The shortest path between nodes 2 and 7 is:\", nx.shortest_path(G, source=2, target=7))\n",
        "print(\"The shortest path as a length of:\",nx.shortest_path_length(G, source=2, target=7))"
      ],
      "metadata": {
        "colab": {
          "base_uri": "https://localhost:8080/"
        },
        "id": "ezqQQBpmWCEu",
        "outputId": "3e9903e1-601a-406b-83a7-0ec47b1c3cdf"
      },
      "execution_count": null,
      "outputs": [
        {
          "output_type": "stream",
          "name": "stdout",
          "text": [
            "Is there a path? True\n",
            "The shortest path between nodes 2 and 7 is: [2, 5, 7]\n",
            "The shortest path as a length of: 2\n"
          ]
        }
      ]
    },
    {
      "cell_type": "markdown",
      "source": [
        "# Betweenness Centrality"
      ],
      "metadata": {
        "id": "hjtQLU4iW7a4"
      }
    },
    {
      "cell_type": "code",
      "source": [
        "nx.betweenness_centrality(G)"
      ],
      "metadata": {
        "colab": {
          "base_uri": "https://localhost:8080/"
        },
        "id": "UAM62Nh6WuX9",
        "outputId": "9f9c827c-4ecd-4367-907e-e5592ee0ffc0"
      },
      "execution_count": null,
      "outputs": [
        {
          "output_type": "execute_result",
          "data": {
            "text/plain": [
              "{0: 0.023148148148148143,\n",
              " 1: 0.023148148148148143,\n",
              " 2: 0.0,\n",
              " 3: 0.10185185185185183,\n",
              " 4: 0.0,\n",
              " 5: 0.23148148148148148,\n",
              " 6: 0.23148148148148148,\n",
              " 7: 0.38888888888888884,\n",
              " 8: 0.2222222222222222,\n",
              " 9: 0.0}"
            ]
          },
          "metadata": {},
          "execution_count": 26
        }
      ]
    },
    {
      "cell_type": "markdown",
      "source": [
        "Node 7 has the highest betweenness centrality, meaning most of the shortest paths in the network route through node 7."
      ],
      "metadata": {
        "id": "C-sVgX9lW_B-"
      }
    },
    {
      "cell_type": "markdown",
      "source": [
        "# Degree Centrality"
      ],
      "metadata": {
        "id": "6vhaBXgEXY4x"
      }
    },
    {
      "cell_type": "code",
      "source": [
        "nx.degree_centrality(G)"
      ],
      "metadata": {
        "colab": {
          "base_uri": "https://localhost:8080/"
        },
        "id": "m3dVukuxW929",
        "outputId": "2f9731f3-038a-4e16-d292-f66720851ae2"
      },
      "execution_count": null,
      "outputs": [
        {
          "output_type": "execute_result",
          "data": {
            "text/plain": [
              "{0: 0.4444444444444444,\n",
              " 1: 0.4444444444444444,\n",
              " 2: 0.3333333333333333,\n",
              " 3: 0.6666666666666666,\n",
              " 4: 0.3333333333333333,\n",
              " 5: 0.5555555555555556,\n",
              " 6: 0.5555555555555556,\n",
              " 7: 0.3333333333333333,\n",
              " 8: 0.2222222222222222,\n",
              " 9: 0.1111111111111111}"
            ]
          },
          "metadata": {},
          "execution_count": 27
        }
      ]
    },
    {
      "cell_type": "markdown",
      "source": [
        "Node 3 has the highest degree centraility because it is the node with the most edges connected at 6 links."
      ],
      "metadata": {
        "id": "BvTeOpO3Xg0R"
      }
    },
    {
      "cell_type": "markdown",
      "source": [
        "# Closeness Centrality"
      ],
      "metadata": {
        "id": "PtnnFzvnXwWG"
      }
    },
    {
      "cell_type": "code",
      "source": [
        "nx.closeness_centrality(G)"
      ],
      "metadata": {
        "colab": {
          "base_uri": "https://localhost:8080/"
        },
        "id": "PrJGvx9IXfue",
        "outputId": "4966d3dc-9478-41b8-b9e2-bcae3b4d6a6f"
      },
      "execution_count": null,
      "outputs": [
        {
          "output_type": "execute_result",
          "data": {
            "text/plain": [
              "{0: 0.5294117647058824,\n",
              " 1: 0.5294117647058824,\n",
              " 2: 0.5,\n",
              " 3: 0.6,\n",
              " 4: 0.5,\n",
              " 5: 0.6428571428571429,\n",
              " 6: 0.6428571428571429,\n",
              " 7: 0.6,\n",
              " 8: 0.42857142857142855,\n",
              " 9: 0.3103448275862069}"
            ]
          },
          "metadata": {},
          "execution_count": 28
        }
      ]
    },
    {
      "cell_type": "markdown",
      "source": [
        "Both nodes 5 and 6 have the highest closeness centrality in this network, representing a node with the lowest average shortest distance."
      ],
      "metadata": {
        "id": "SR_ijGjgX7ZJ"
      }
    },
    {
      "cell_type": "markdown",
      "source": [
        "# Eigenvector Centrality"
      ],
      "metadata": {
        "id": "vQUEeA8KZEY9"
      }
    },
    {
      "cell_type": "markdown",
      "source": [
        "Similar to PageRank"
      ],
      "metadata": {
        "id": "y4FA2A_TZRkM"
      }
    },
    {
      "cell_type": "code",
      "source": [
        "nx.eigenvector_centrality(G)"
      ],
      "metadata": {
        "colab": {
          "base_uri": "https://localhost:8080/"
        },
        "id": "C-J5-m-PX1N_",
        "outputId": "a749601e-4143-4ac0-b689-fbdf7ba0c7a3"
      },
      "execution_count": null,
      "outputs": [
        {
          "output_type": "execute_result",
          "data": {
            "text/plain": [
              "{0: 0.35220898139203594,\n",
              " 1: 0.35220898139203594,\n",
              " 2: 0.2858347353163241,\n",
              " 3: 0.4810204881221006,\n",
              " 4: 0.2858347353163241,\n",
              " 5: 0.3976910106255469,\n",
              " 6: 0.3976910106255469,\n",
              " 7: 0.19586185175360382,\n",
              " 8: 0.04807477501420294,\n",
              " 9: 0.011164058575824238}"
            ]
          },
          "metadata": {},
          "execution_count": 29
        }
      ]
    },
    {
      "cell_type": "markdown",
      "source": [
        "This value considers both degree centrality, but also how likely each node in the network is to be visited, given you have entered the network. Node 3 has the highest Eigenvector centrality in this network."
      ],
      "metadata": {
        "id": "VUEOejdgZLAx"
      }
    },
    {
      "cell_type": "markdown",
      "source": [
        "# Clustering Coefficient"
      ],
      "metadata": {
        "id": "2odFhpOoZ6Gp"
      }
    },
    {
      "cell_type": "markdown",
      "source": [
        "The proportion of the node's neighbors that are also neighbors with each other (that is, the proportion of possible triplets or triangles that exists)"
      ],
      "metadata": {
        "id": "riVXFWadaM1v"
      }
    },
    {
      "cell_type": "code",
      "source": [
        "nx.clustering(G)"
      ],
      "metadata": {
        "colab": {
          "base_uri": "https://localhost:8080/"
        },
        "id": "KfstpqIoZDiz",
        "outputId": "2bc311f1-9b3b-4c2c-f9ea-abc0524ba954"
      },
      "execution_count": null,
      "outputs": [
        {
          "output_type": "execute_result",
          "data": {
            "text/plain": [
              "{0: 0.6666666666666666,\n",
              " 1: 0.6666666666666666,\n",
              " 2: 1.0,\n",
              " 3: 0.5333333333333333,\n",
              " 4: 1.0,\n",
              " 5: 0.5,\n",
              " 6: 0.5,\n",
              " 7: 0.3333333333333333,\n",
              " 8: 0,\n",
              " 9: 0}"
            ]
          },
          "metadata": {},
          "execution_count": 30
        }
      ]
    },
    {
      "cell_type": "markdown",
      "source": [
        "These values suggest that cliques might occur with nodes 0 and 1 and possibly 3, which we can confirm is a triangle in the graph."
      ],
      "metadata": {
        "id": "JX6GZ4qyaaFr"
      }
    },
    {
      "cell_type": "code",
      "source": [],
      "metadata": {
        "id": "M6_MbR6xZ5Xb"
      },
      "execution_count": null,
      "outputs": []
    }
  ]
}